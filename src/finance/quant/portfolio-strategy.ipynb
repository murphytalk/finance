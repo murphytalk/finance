{
 "cells": [
  {
   "cell_type": "code",
   "execution_count": 1,
   "metadata": {},
   "outputs": [],
   "source": [
    "from strategy import *"
   ]
  },
  {
   "cell_type": "code",
   "execution_count": 7,
   "metadata": {},
   "outputs": [
    {
     "data": {
      "text/plain": [
       "(EvalResult(total_cost=119783.62002399997, total_value=221998.862538, final_return=0.8533323879635635, annualized_return=0.07797390403363157),\n",
       " EvalResult(total_cost=109983.21010199995, total_value=202930.40232, final_return=0.8451034674456176, annualized_return=0.0772219800848665))"
      ]
     },
     "execution_count": 7,
     "metadata": {},
     "output_type": "execute_result"
    }
   ],
   "source": [
    "# scale up by 10 x changes , scale down by 1, top scale 200%\n",
    "s = FluxtrateBuy(50,1, 2, 2)\n",
    "vti = BackTester(240, 'VTI', datetime(2010, 1, 1), datetime(2020, 10, 1))\n",
    "vti_a = vti.get_actions(s, 30)\n",
    "vti.evaluate(800, vti_a)"
   ]
  },
  {
   "cell_type": "code",
   "execution_count": 10,
   "metadata": {},
   "outputs": [
    {
     "data": {
      "text/plain": [
       "Avg(closing=173.220001, avg_closing=156.55886243712573, last_to_avg_percentage=0.10642092247933527)"
      ]
     },
     "execution_count": 10,
     "metadata": {},
     "output_type": "execute_result"
    }
   ],
   "source": [
    "calc_avg('VTI', datetime(2020,10,26),240)"
   ]
  }
 ],
 "metadata": {
  "kernelspec": {
   "display_name": "Python 3",
   "language": "python",
   "name": "python3"
  },
  "language_info": {
   "codemirror_mode": {
    "name": "ipython",
    "version": 3
   },
   "file_extension": ".py",
   "mimetype": "text/x-python",
   "name": "python",
   "nbconvert_exporter": "python",
   "pygments_lexer": "ipython3",
   "version": "3.8.6"
  }
 },
 "nbformat": 4,
 "nbformat_minor": 4
}
